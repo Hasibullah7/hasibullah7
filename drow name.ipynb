{
 "cells": [
  {
   "cell_type": "code",
   "execution_count": 1,
   "metadata": {},
   "outputs": [
    {
     "data": {
      "text/plain": [
       "[<matplotlib.lines.Line2D at 0x26e1a84c990>]"
      ]
     },
     "execution_count": 1,
     "metadata": {},
     "output_type": "execute_result"
    },
    {
     "data": {
      "image/png": "[encoded data removed]",
      "text/plain": [
       "<Figure size 640x480 with 1 Axes>"
      ]
     },
     "metadata": {},
     "output_type": "display_data"
    }
   ],
   "source": [
    "import numpy as np\n",
    "import matplotlib.pyplot as plt\n",
    "v=np.array([2,3])\n",
    "plt.plot([2,v[0]],[2,v[1]])\n",
    "plt.axis([0,30,0,5])\n",
    "v=np.array([5,2.5])\n",
    "plt.plot([2,v[0]],[2.5,v[1]])\n",
    "v=np.array([5,3])\n",
    "plt.plot([5,v[0]],[2,v[1]])\n",
    "v=np.array([7,3])\n",
    "plt.plot([6,v[0]],[2,v[1]])\n",
    "v=np.array([8,2])\n",
    "plt.plot([7,v[0]],[3,v[1]])\n",
    "v=np.array([7.5,2.5])\n",
    "plt.plot([6.5,v[0]],[2.5,v[1]])\n",
    "v=np.array([11,3])\n",
    "plt.plot([9,v[0]],[3,v[1]])\n",
    "v=np.array([9,2.5])\n",
    "plt.plot([9,v[0]],[3,v[1]])\n",
    "v=np.array([11,2.5])\n",
    "plt.plot([9,v[0]],[2.5,v[1]])\n",
    "v=np.array([11,2])\n",
    "plt.plot([11,v[0]],[2.5,v[1]])\n",
    "v=np.array([9,2])\n",
    "plt.plot([11,v[0]],[2,v[1]])\n",
    "v=np.array([12,3])\n",
    "plt.plot([12,v[0]],[2,v[1]])\n",
    "v=np.array([13,3])\n",
    "plt.plot([13,v[0]],[2,v[1]])\n",
    "v=np.array([15,3])\n",
    "plt.plot([13,v[0]],[3,v[1]])\n",
    "v=np.array([15,2.5])\n",
    "plt.plot([15,v[0]],[3,v[1]])\n",
    "v=np.array([13,2.5])\n",
    "plt.plot([15,v[0]],[2.5,v[1]])\n",
    "v=np.array([15,2])\n",
    "plt.plot([15,v[0]],[2.5,v[1]])\n",
    "v=np.array([13,2])\n",
    "plt.plot([15,v[0]],[2,v[1]])\n",
    "import numpy as np\n",
    "import matplotlib.pyplot as plt\n",
    "v=np.array([2,3])\n",
    "plt.plot([2,v[0]],[2,v[1]])\n",
    "plt.axis([0,30,0,5])\n",
    "v=np.array([5,2.5])\n",
    "plt.plot([2,v[0]],[2.5,v[1]])\n",
    "v=np.array([5,3])\n",
    "plt.plot([5,v[0]],[2,v[1]])\n",
    "v=np.array([7,3])\n",
    "plt.plot([6,v[0]],[2,v[1]])\n",
    "v=np.array([8,2])\n",
    "plt.plot([7,v[0]],[3,v[1]])\n",
    "v=np.array([7.5,2.5])\n",
    "plt.plot([6.5,v[0]],[2.5,v[1]])\n",
    "v=np.array([11,3])\n",
    "plt.plot([9,v[0]],[3,v[1]])\n",
    "v=np.array([9,2.5])\n",
    "plt.plot([9,v[0]],[3,v[1]])\n",
    "v=np.array([11,2.5])\n",
    "plt.plot([9,v[0]],[2.5,v[1]])\n",
    "v=np.array([11,2])\n",
    "plt.plot([11,v[0]],[2.5,v[1]])\n",
    "v=np.array([9,2])\n",
    "plt.plot([11,v[0]],[2,v[1]])\n",
    "v=np.array([12,3])\n",
    "plt.plot([12,v[0]],[2,v[1]])\n",
    "v=np.array([13,3])\n",
    "plt.plot([13,v[0]],[2,v[1]])\n",
    "v=np.array([15,3])\n",
    "plt.plot([13,v[0]],[3,v[1]])\n",
    "v=np.array([15,2.5])\n",
    "plt.plot([15,v[0]],[3,v[1]])\n",
    "v=np.array([13,2.5])\n",
    "plt.plot([15,v[0]],[2.5,v[1]])\n",
    "v=np.array([15,2])\n",
    "plt.plot([15,v[0]],[2.5,v[1]])\n",
    "v=np.array([13,2])\n",
    "plt.plot([15,v[0]],[2,v[1]])\n",
    "v=np.array([17,3])\n",
    "plt.plot([17,v[0]],[2,v[1]])\n",
    "v=np.array([19.5,2])\n",
    "plt.plot([17,v[0]],[2,v[1]])\n",
    "v=np.array([19.5,3])\n",
    "plt.plot([19.5,v[0]],[2,v[1]])\n",
    "v=np.array([20,3])\n",
    "plt.plot([20,v[0]],[2,v[1]])\n",
    "v=np.array([21,2])\n",
    "plt.plot([20,v[0]],[2,v[1]])\n",
    "v=np.array([22,3])\n",
    "plt.plot([22,v[0]],[2,v[1]])\n",
    "v=np.array([23,2])\n",
    "plt.plot([22,v[0]],[2,v[1]])\n",
    "v=np.array([25,3])\n",
    "plt.plot([24,v[0]],[2,v[1]])\n",
    "v=np.array([26,2])\n",
    "plt.plot([25,v[0]],[3,v[1]])\n",
    "v=np.array([25.8,2.5])\n",
    "plt.plot([24.3,v[0]],[2.5,v[1]])\n",
    "v=np.array([27,3])\n",
    "plt.plot([27,v[0]],[2,v[1]])\n",
    "v=np.array([29,3])\n",
    "plt.plot([29,v[0]],[2,v[1]])\n",
    "v=np.array([29,2.5])\n",
    "plt.plot([27,v[0]],[2.5,v[1]])\n",
    "\n",
    "\n"
   ]
  }
 ],
 "metadata": {
  "kernelspec": {
   "display_name": "Python 3",
   "language": "python",
   "name": "python3"
  },
  "language_info": {
   "codemirror_mode": {
    "name": "ipython",
    "version": 3
   },
   "file_extension": ".py",
   "mimetype": "text/x-python",
   "name": "python",
   "nbconvert_exporter": "python",
   "pygments_lexer": "ipython3",
   "version": "3.11.1"
  },
  "orig_nbformat": 4,
  "vscode": {
   "interpreter": {
    "hash": "4932a7c6d5b9aa26619be33c30a7da8feff45a0166f619e7364833344bcb38ae"
   }
  }
 },
 "nbformat": 4,
 "nbformat_minor": 2
}
